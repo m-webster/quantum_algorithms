{
 "cells": [
  {
   "cell_type": "markdown",
   "metadata": {},
   "source": [
    "# Quantum Algorithms Problem Set 2 - Mark Webster\n",
    "\n",
    "## 1. Generalised Bernstein-Vazirani \n",
    "**Let $M,n$ be positive integers. Let $s \\in \\mathbb{Z}_M^n$ and define the function $f_s: \\mathbb{Z}_M^n \\rightarrow \\mathbb{Z}_M$ by $f_s(x) = \\langle s, x\\rangle \\mod M$. Given access to an oracle $O_{f_s}$ which for $x \\in \\mathbb{Z}_M^n, b\\in \\mathbb{Z}_M$ acts as $O_{f_s}|x\\rangle|b\\rangle = |x\\rangle|b + f_s(x) \\mod M\\rangle$, design a quantum algorithm that computes $s$ with one application of $O_{f_s}$.**\n",
    "\n",
    "Let $\\omega := \\exp(2\\pi i / M)$ and define the action of the QFT and its inverse on the computational basis element $|b\\rangle, b \\in \\mathbb{Z}_M$:\n",
    "\n",
    "$F_M|b\\rangle = \\frac{1}{\\sqrt{M}}\\sum_{0 \\le k < M}\\omega^{-b, k}|k\\rangle$ and \n",
    "\n",
    "$F_M^{-1}|b\\rangle = \\frac{1}{\\sqrt{M}}\\sum_{0 \\le k < M}\\omega^{b\\cdot k}|k\\rangle$.\n",
    "\n",
    "The action of $F_M^{\\otimes n}$ on a basis element $|b\\rangle$ where $b \\in \\mathbb{Z}_M^n$ is given by:\n",
    "\n",
    "$F_M^{\\otimes n}|b\\rangle = \\frac{1}{\\sqrt{M^n}}\\sum_{k \\in \\mathbb{Z}_M^n}\\omega^{-\\langle b, k\\rangle}|k\\rangle$\n",
    "\n",
    "Define $O'_{f} := (I \\otimes F_M) \\circ (O_f) \\circ (I \\otimes F_M^{-1})$. Claim that the action of $O'_{f}$ is $O'_{f}|x\\rangle|b\\rangle = \\omega^{-f(x)\\cdot b}|x\\rangle|b\\rangle$:\n",
    "\n",
    "$|\\psi_0\\rangle = |x\\rangle|b\\rangle$\n",
    "\n",
    "$|\\psi_1\\rangle = \\frac{1}{\\sqrt{M}}\\sum_{0 \\le k < M}\\omega^{b\\cdot k}|x\\rangle|k\\rangle$ - Apply $I \\otimes F_M^{-1}$\n",
    "\n",
    "$|\\psi_2\\rangle = \\frac{1}{\\sqrt{M}}\\sum_{0 \\le k < M}\\omega^{b\\cdot k}|x\\rangle|k+f(x) \\mod M\\rangle$ - Apply $O_f$\n",
    "\n",
    "Now $b\\cdot k = b\\cdot(k + f(x)) - b\\cdot f(x)$ so \n",
    "\n",
    "$|\\psi_2\\rangle = \\frac{1}{\\sqrt{M}}\\omega^{- b\\cdot f(x)}\\sum_{0 \\le k < M}\\omega^{b\\cdot(k + f(x) \\mod M)}|x\\rangle|k+f(x) \\mod M\\rangle$\n",
    "\n",
    "By re-indexing the sum, we have:\n",
    "\n",
    "$|\\psi_2\\rangle = \\frac{1}{\\sqrt{M}}\\omega^{- b\\cdot f(x)}\\sum_{0 \\le k < M}\\omega^{k}|x\\rangle|k \\rangle$\n",
    "\n",
    "$|\\psi_3\\rangle = \\frac{1}{\\sqrt{M}}\\omega^{- b\\cdot f(x)}|x\\rangle|b \\rangle$ - Apply $I \\otimes F_M$.\n",
    "\n",
    "The generalised Bernstein-Vazirani algorithm is then the same as for qubits, but generalised to $M$-level systems: $((F_M^{\\otimes n})^{-1} \\otimes I)\\circ O'_{f_s} \\circ (F_M^{\\otimes n} \\otimes I)|0^n\\rangle|1\\rangle$. \n",
    "\n",
    "$|\\psi_0\\rangle = |0^n\\rangle|1\\rangle$\n",
    "\n",
    "$|\\psi_1\\rangle = \\frac{1}{\\sqrt{M^n}}\\sum_{k \\in \\mathbb{Z}_M^n}|k\\rangle|1\\rangle$ - apply $F_M^{n} \\otimes I$\n",
    "\n",
    "$|\\psi_2\\rangle = \\frac{1}{\\sqrt{M^n}}\\sum_{k \\in \\mathbb{Z}_M^n}\\omega^{-f_s(k)}|k\\rangle|1\\rangle = \\frac{1}{\\sqrt{M^n}}\\sum_{k \\in \\mathbb{Z}_M^n}\\omega^{-\\langle s, k \\rangle }|k\\rangle|1\\rangle = (F_M^{\\otimes n} \\otimes I )|s\\rangle|1\\rangle$ - apply $O'_{f_s}$\n",
    "\n",
    "$|\\psi_3\\rangle = |s\\rangle|1\\rangle$ - apply $(F_M^{\\otimes n})^{-1} \\otimes I$\n",
    "\n",
    "Hence after measurment, we learn $s$ with probability $1$. "
   ]
  },
  {
   "cell_type": "markdown",
   "metadata": {},
   "source": [
    "## 2. Continued Fractions\n",
    "\n",
    "**1. Find the continued fraction expansion of $\\frac{527}{1024}$**\n",
    "\n",
    "$\\frac{527}{1024} = 0+ \\frac{1}{1+ \\frac{1}{1+ \\frac{1}{16+ \\frac{1}{1+ \\frac{1}{1+ \\frac{1}{3+ \\frac{1}{4}}}}}}}$\n",
    "\n",
    "Determined using the Python program below:"
   ]
  },
  {
   "cell_type": "code",
   "execution_count": 67,
   "metadata": {},
   "outputs": [
    {
     "name": "stdout",
     "output_type": "stream",
     "text": [
      "Calculating Continued Fraction for 527/1024\n",
      " | j |      x_j | a_j | \n",
      " | 0 | 527/1024 |   0 | \n",
      " | 1 | 1024/527 |   1 | \n",
      " | 2 |  527/497 |   1 | \n",
      " | 3 |   497/30 |  16 | \n",
      " | 4 |    30/17 |   1 | \n",
      " | 5 |    17/13 |   1 | \n",
      " | 6 |     13/4 |   3 | \n",
      " | 7 |        4 |   4 | \n",
      "\n",
      "TeX Representation of continued fraction:\n",
      "0+ \\frac{1}{1+ \\frac{1}{1+ \\frac{1}{16+ \\frac{1}{1+ \\frac{1}{1+ \\frac{1}{3+ \\frac{1}{4}}}}}}}\n"
     ]
    }
   ],
   "source": [
    "from fractions import Fraction\n",
    "import numpy as np\n",
    "\n",
    "\n",
    "def print_table(data):\n",
    "    sep = \" | \"\n",
    "    temp = []\n",
    "    data = [[str(a) for a in r ] for r in data]\n",
    "    colwidth = [max([len(a) for a in c]) for c in np.transpose(data)]\n",
    "    for r in data:\n",
    "        r = [r[j].rjust(colwidth[j]) for j in range(len(r))]\n",
    "        temp.append(sep + sep.join(r) + sep)\n",
    "    return \"\\n\".join(temp)\n",
    "\n",
    "## convert Fraction x to continued fraction A with convergents given by P, Q\n",
    "## maxQ is the maximum allowed value of the denominator of the approximation\n",
    "def Q2cf(x,verbose=False,maxQ=None):\n",
    "    ## maximum denominator for approximation\n",
    "    maxQ = x.denominator if maxQ is None else maxQ\n",
    "    ## array of the a_i to return\n",
    "    A = []\n",
    "    ## numerators and denominators of jth convergent\n",
    "    ## initial values to make inductive expression work\n",
    "    P = [0,1]\n",
    "    Q = [1,0]\n",
    "    ## remaining value to turn into continued fraction\n",
    "    xj = x\n",
    "    ## tabular data to print\n",
    "    data = [['j','x_j','a_j']]\n",
    "    ## repeat the loop up to maxloop times. \n",
    "    # Exponential convergence so this should be enough iterations\n",
    "    maxloop = 10000\n",
    "    for j in range(maxloop):\n",
    "        ## a_j is the floor of x_j\n",
    "        a = int(xj.__floor__())\n",
    "        data.append([j,xj,a])\n",
    "        ## jth convergent is p/q\n",
    "        p,q = a * P[j+1] + P[j], a * Q[j+1] + Q[j]\n",
    "        ## check if the denominator q is greater than maxQ\n",
    "        if q > maxQ:\n",
    "            break\n",
    "        ## update A, P, Q\n",
    "        A.append(a)\n",
    "        P.append(p)\n",
    "        Q.append(q)\n",
    "        ## update x\n",
    "        xj = xj - a\n",
    "        ## if xj is zero, we have an exact approximation\n",
    "        if xj == 0:\n",
    "            break\n",
    "        ## otherwise x_{j+1} = 1/x_{j}\n",
    "        xj = 1/xj\n",
    "    if verbose:\n",
    "        print(f'Calculating Continued Fraction for {x}')\n",
    "        print(print_table(data))\n",
    "    return A,P,Q\n",
    "\n",
    "## convert continued fraction A to rational x\n",
    "def cf2Q(A):\n",
    "    x = None\n",
    "    for i in range(len(A)-1,-1,-1):\n",
    "        x = Fraction(A[i],1) if x is None else A[i] + 1/x\n",
    "    return x\n",
    "\n",
    "## TeX representation of continued fraction\n",
    "def cf2str(A,i):\n",
    "    if i == len(A) - 1:\n",
    "        return str(A[i])\n",
    "    else:\n",
    "        return str(A[i]) + \"+ \\\\frac{1}{\" + cf2str(A,i+1) +\"}\"\n",
    "\n",
    "\n",
    "## fraction to convert to continued fraction\n",
    "x = Fraction(527,1024)\n",
    "\n",
    "## Return continued fraction: A, P, Q are the lists of a_j, p_j, q_j respectively\n",
    "A,P,Q = Q2cf(x,verbose=True)\n",
    "print('\\nTeX Representation of continued fraction:')\n",
    "print(cf2str(A,0))"
   ]
  },
  {
   "cell_type": "markdown",
   "metadata": {},
   "source": [
    "**2. Look at the $j^{th}$ convergents of your expression and make a conjecture about the even numbered convergents (you do not need to prove it).**\n",
    "\n",
    "For the $j^{th}$ convergent $c_j$, we have that $x \\ge c_j$ if $j$ is even and $x \\le c_j$ if $j$ is odd as demonstrated in the example below:"
   ]
  },
  {
   "cell_type": "code",
   "execution_count": 68,
   "metadata": {},
   "outputs": [
    {
     "name": "stdout",
     "output_type": "stream",
     "text": [
      " | j |      c_j |   x - c_j | \n",
      " | 0 |        0 |  5.15E-01 | \n",
      " | 1 |        1 | -4.85E-01 | \n",
      " | 2 |      1/2 |  1.46E-02 | \n",
      " | 3 |    17/33 | -5.03E-04 | \n",
      " | 4 |    18/35 |  3.63E-04 | \n",
      " | 5 |    35/68 | -5.74E-05 | \n",
      " | 6 |  123/239 |  4.09E-06 | \n",
      " | 7 | 527/1024 |  0.00E+00 | \n"
     ]
    }
   ],
   "source": [
    "\n",
    "data = [['j','c_j','x - c_j']]\n",
    "for j in range(len(A)):\n",
    "    ## remember to offset P, Q by 2\n",
    "    cj = Fraction(P[j+2],Q[j+2])\n",
    "    s = \"{:.2E}\".format(float(x-cj))\n",
    "    data.append([j, cj, s])\n",
    "print(print_table(data))"
   ]
  },
  {
   "cell_type": "markdown",
   "metadata": {},
   "source": [
    "**3. Write a program in any language to compute a continued fraction of an input number up to a given accuracy**\n",
    "\n",
    "See Question 1."
   ]
  },
  {
   "cell_type": "markdown",
   "metadata": {},
   "source": [
    "## 3. Factoring 21: Let's factor the number $M=21$ using Shor's algorithm.\n",
    "\n",
    "**1. List all numbers in $\\mathbb{Z}_{21}$ that are relatively prime to $21$.  These are the elements of the multiplicative group $\\mathbb{Z}_{21}^\\times$.  Compute   the order $\\text{ord}_{21}(x)$ of all elements in $\\mathbb{Z}_{21}^\\times$.**"
   ]
  },
  {
   "cell_type": "code",
   "execution_count": 69,
   "metadata": {},
   "outputs": [
    {
     "name": "stdout",
     "output_type": "stream",
     "text": [
      " |  x | ord(x) mod 21 | \n",
      " |  1 |             1 | \n",
      " |  2 |             6 | \n",
      " |  4 |             3 | \n",
      " |  5 |             6 | \n",
      " |  8 |             2 | \n",
      " | 10 |             6 | \n",
      " | 11 |             6 | \n",
      " | 13 |             2 | \n",
      " | 16 |             3 | \n",
      " | 17 |             6 | \n",
      " | 19 |             6 | \n",
      " | 20 |             2 | \n"
     ]
    }
   ],
   "source": [
    "M = 21\n",
    "\n",
    "## order of element x modulo M\n",
    "def order(x,M):\n",
    "    xi = x\n",
    "    for i in range(M):\n",
    "        if xi % M == 1:\n",
    "            return i+1\n",
    "        xi *= x\n",
    "    return False\n",
    "\n",
    "## group elements with order 6\n",
    "ord6 = []\n",
    "## tabular data for printing\n",
    "data = [[\"x\", 'ord(x) mod 21']]\n",
    "\n",
    "# Calculate GCD\n",
    "G = np.gcd(M,range(M))\n",
    "for x in range(M):\n",
    "    if G[x]==1:\n",
    "        o = order(x,M)\n",
    "        data.append([x,o])\n",
    "        if o == 6:\n",
    "            ord6.append(x)\n",
    "\n",
    "print(print_table(data))"
   ]
  },
  {
   "cell_type": "markdown",
   "metadata": {},
   "source": [
    "**2. Recall that in Shor's algorithm we want to find an $x$ of even order $d$ such that $x^{d/2} \\ne -1 \\mod M$.  Call such an $x$ *good*.  Identify all the good $x \\in \\mathbb{Z}_{21}^\\times$ with $\\text{ord}_{21}(x) = 6$ and for these verify that $\\gcd(x^3 \\pm 1, 21)$ gives a nontrivial factor of $21$.**\n"
   ]
  },
  {
   "cell_type": "code",
   "execution_count": 70,
   "metadata": {},
   "outputs": [
    {
     "name": "stdout",
     "output_type": "stream",
     "text": [
      " |  x | gcd(x^3+1,M) | gcd(x^3-1,M) | \n",
      " |  2 |            3 |            7 | \n",
      " | 10 |            7 |            3 | \n",
      " | 11 |            3 |            7 | \n",
      " | 19 |            7 |            3 | \n"
     ]
    }
   ],
   "source": [
    "data = [['x','gcd(x^3+1,M)','gcd(x^3-1,M)']]\n",
    "for x in ord6:\n",
    "    x3 = x**3\n",
    "    if (x3 + 1) % M > 0:\n",
    "        g1 = np.gcd(x3+1,M)\n",
    "        g2 = np.gcd(x3-1,M)\n",
    "        data.append([x,g1,g2])\n",
    "\n",
    "print(print_table(data))\n"
   ]
  },
  {
   "cell_type": "markdown",
   "metadata": {},
   "source": [
    "**3. Choose a good $x$ of order $6$ from the previous step.  Now let's simulate finding the period of $f(j) = x^j \\bmod{21}$.  Using the Octave FTperiod program. This simulates randomly sampling a state $\\ket{g_t}$ and measuring $F_N \\ket{g_t}$ to see an index $b$.  Use continued fraction expansion on $b/N$ and see if you can recover $\\text{ord}_{21}(x)$.  It may take several attempts.  Record the values you see and how many attempts it takes.**"
   ]
  },
  {
   "cell_type": "code",
   "execution_count": 71,
   "metadata": {},
   "outputs": [
    {
     "name": "stdout",
     "output_type": "stream",
     "text": [
      "\n",
      "Iteration 1\n",
      "b =  367\n",
      "Continued fraction estimate: 5/6\n",
      "Checking order: x=19, x^6 = 1 mod 21\n",
      "Period finding succeeded\n"
     ]
    }
   ],
   "source": [
    "import math\n",
    "import numpy as np\n",
    "from scipy import fftpack\n",
    "from scipy.linalg import dft\n",
    "import matplotlib.pyplot as plt\n",
    "\n",
    "def sampleb(probs):\n",
    "    # sample entry b with prob |Y(b,j)|^2\n",
    "    thresh = np.random.rand(1)\n",
    "    b = -1\n",
    "    prob_sum = 0\n",
    "    while prob_sum < thresh:\n",
    "        b += 1\n",
    "        prob_sum += probs[b]\n",
    "    return b\n",
    "\n",
    "N = M**2\n",
    "## choose a 'good' x with order 6\n",
    "x = 19\n",
    "s = order(x,M)\n",
    "\n",
    "T = math.floor(N/s)\n",
    "R= N % s\n",
    "\n",
    "I = np.identity(s)\n",
    "X = np.tile(I,(T,1))\n",
    "X = np.vstack((X,I[0:R,:]))\n",
    "# normalize X so columns have unit norm\n",
    "X = X/np.sqrt(sum(X))\n",
    "\n",
    "# Fourier transform\n",
    "F_N = dft(N)/np.sqrt(N)\n",
    "Y = F_N @ X\n",
    "\n",
    "for i in range(100):\n",
    "    # sampling\n",
    "    # sample a random coset state\n",
    "    j = np.random.randint(s)\n",
    "    probs = abs(Y[:,j])**2\n",
    "    b = sampleb(probs)\n",
    "    print(f'\\nIteration {i+1}')\n",
    "    print('b = ',b)\n",
    "    A,P,Q = Q2cf(Fraction(b,N),maxQ=M)\n",
    "    p,q = P[-1],Q[-1]\n",
    "    print(f'Continued fraction estimate: {p}/{q}')\n",
    "    xq = x**q % M\n",
    "    print(f'Checking order: x={x}, x^{q} = {xq} mod {M}')\n",
    "    if 1 == xq:\n",
    "        print('Period finding succeeded')\n",
    "        break\n",
    "    print('Period finding failed')\n",
    "\n",
    "\n"
   ]
  },
  {
   "cell_type": "markdown",
   "metadata": {},
   "source": [
    "## 4. Assumptions\n",
    "**Where in the proof of Shor's algorithm for the general period finding problem with a function $f: \\mathbb{Z}_N \\rightarrow [M]$ do we use the assumption that $N > M^2$? What can go wrong without this assumption?**\n",
    "\n",
    "When measuring the first register in Step 3 of the algorithm, we obtain a value $b$ which is close to $kN/s$ with high probability, where $s$ is the period of the function and $k$ is an integer. More specifically, $|b/N - k/s| \\le 1/2N$. We know $b/N$ and we want to find $k, s$. Two distinct fractions with denominators $\\le M$ must be at least $1/M^2$ apart. Due to the injectivity assumption, $s \\le M$. \n",
    "\n",
    "Using the assumption $N > M^2$, we see that $|b/N - k/s| \\le 1/2N \\le 1/2M^2$ and there is a unique fraction $k/s$ with denominator of maximum size $M$ meeting this condition. We can determine this fraction using either continued fractions or an integer linear program, and use this to derive the period $s$.\n",
    "\n",
    "If the assumption were not true, there could be more than one fraction meeting this condition, and we would not necessarily be able to determine the value of $s$.\n",
    "\n",
    "## 5. Nielsen and Chuang \n",
    "**At the end of this problem set is attached the section from Nielsen and Chuang on period finding (section 5.4.1). Compared to our description in lecture, the Nielsen and Chuang presentation removes a key assumption about the function f. Does the algorithm still work without this assumption? If not, what can go wrong? You can describe it in words or show a numerical example in your favourite language.**\n",
    "\n",
    "The missing assumption is the injectivity of the periodic function $f$ on $[0\\dots s]$ where $s$ is the period of the function. That is, they assume that $f$ meets the condition $f(x + s) = f(x)$ but omit the condition that $f(x) \\ne f(y)$ for distinct $x, y < r$. \n",
    "\n",
    "In this case, different values of $f$ could occur with different periods which would lead to incorrect values for the period of the function itself. The injectivity assumption implies that the values of $f$ occur with the same periodicity.\n",
    "\n",
    "As an example, let $M = 8, N = 65$ and $f(x) = GCD(x,M)$. The value $f(x) = 1$ has periodicity $2$, $f(x) = 2$ has periodicity $4$ and the values $f(x) = 4, 8$ have periodicity $8$. The correct period of the function itself is $8$ as illustrated below.\n",
    "\n",
    "In Step 2b, when measuring the value of $f(x)$ on the 2nd register, if we happen to obtain a value other than $4$ or $8$, we would obtain the incorrect value of the period of the function.\n"
   ]
  },
  {
   "cell_type": "code",
   "execution_count": 72,
   "metadata": {},
   "outputs": [
    {
     "name": "stdout",
     "output_type": "stream",
     "text": [
      " | x f(x) |  x f(x) |  x f(x) |  x f(x) |  x f(x) |  x f(x) |  x f(x) |  x f(x) |  x f(x) | \n",
      " | 0   8  |  8   8  | 16   8  | 24   8  | 32   8  | 40   8  | 48   8  | 56   8  | 64   8  | \n",
      " | 1   1  |  9   1  | 17   1  | 25   1  | 33   1  | 41   1  | 49   1  | 57   1  |         | \n",
      " | 2   2  | 10   2  | 18   2  | 26   2  | 34   2  | 42   2  | 50   2  | 58   2  |         | \n",
      " | 3   1  | 11   1  | 19   1  | 27   1  | 35   1  | 43   1  | 51   1  | 59   1  |         | \n",
      " | 4   4  | 12   4  | 20   4  | 28   4  | 36   4  | 44   4  | 52   4  | 60   4  |         | \n",
      " | 5   1  | 13   1  | 21   1  | 29   1  | 37   1  | 45   1  | 53   1  | 61   1  |         | \n",
      " | 6   2  | 14   2  | 22   2  | 30   2  | 38   2  | 46   2  | 54   2  | 62   2  |         | \n",
      " | 7   1  | 15   1  | 23   1  | 31   1  | 39   1  | 47   1  | 55   1  | 63   1  |         | \n"
     ]
    }
   ],
   "source": [
    "M= 8\n",
    "N = M**2+1\n",
    "r = N // M\n",
    "data = [['x f(x)'] * c]\n",
    "G = np.gcd(M, range(N))\n",
    "c = N//r + 1 if N % r > 0 else 0\n",
    "for x in range(r):\n",
    "    myrow = []\n",
    "    for y in range(c):\n",
    "        i = r * y + x \n",
    "        if i < N:\n",
    "            myrow.append(f'{i}   {G[i]} ')\n",
    "        else:\n",
    "            myrow.append(\"\")\n",
    "    data.append(myrow)\n",
    "\n",
    "print(print_table(data))"
   ]
  },
  {
   "cell_type": "markdown",
   "metadata": {},
   "source": [
    "## 6. Finding all ones \n",
    "**Let $N = 2^n$ and $x \\in \\{0,1\\}^N$ and assume you know that $x$ has $k$ many ones.**\n",
    "\n",
    "**1. In lecture we showed how to find an $i \\in N$ such that $x_i = 1$ with constant probability by a quantum algorithm after $O(\\sqrt{N/k})$ many queries to $x$. Show how to boost this success probability to $1 - 1/N^2$ using $O(\\sqrt{N/k} \\log(N))$ many queries to x.**\n",
    "\n",
    "From lectures, each time we apply Grover's algorithm, the probability of finding an $i \\in N$ such that $x_i = 1$ is $1 - k/N$. Hence, the probability of failure is $k/N$. We use  $O(\\sqrt{N/k})$ queries each time.\n",
    "\n",
    "Now consider applying  Grover's algorithm $l$ times. We want to find $l$ such that the probability of failure is less than $1/N^2$. Hence: $(k/N)^l < 1/N^2$ and so $l \\log(k/N) < 2 \\log(1/N)$. We can assume $k/N < 1/2$ as otherwise we have an efficient classical algorithm via random sampling. Hence $-2l < -2\\log(N)$ and so we can set $l > \\log(N)$.\n",
    "\n",
    "The total number of queries required is $O(\\sqrt{N/k} \\log(N))$ and the probability of success is at least $1 - 1/N^2$.\n",
    "\n",
    "**2. Give a quantum algorithm to find all the ones in $x$ with constant probability after $O(\\sqrt{kN} \\log(N))$ many queries to $x$.**\n",
    "\n",
    "Modify the oracle to apply a phase of $-1$ only where we have not previously found the solution.\n",
    "\n",
    "This can be achieved by applying a circuit of the following form for solution $i$ with $O(n) = O(\\log(N))$ gates. Here, $i$ is the previous solution represented as a length $n$ binary string, $j$ the input of the gate on $n$ qubits and $|b\\rangle$ is the output qubit from the oracle function which acquires a phase of $-1$ if the input $j$ matches $i$. By applying a series of such circuits for each existing solution after the oracle, we exclude any such solutions.\n",
    "\n",
    "\n",
    "![Ex Circuit](ex_circuit.jpg \"Ex Circuit\")\n",
    "\n",
    "Now consider applying the  algorithm from part 1 $k$ times. As we exclude previously found solutions, the probability of finding all $k$ solutions is $(1 - 1/N^2)^k$ and this requires $k \\sqrt{N/k} \\log(N) = \\sqrt{kN } \\log(N)$ queries as required.\n",
    "\n"
   ]
  }
 ],
 "metadata": {
  "interpreter": {
   "hash": "a159ac5b6c3c0ce76767ba8c67cee033f28290669671a7d6bd27f339282c3c8a"
  },
  "kernelspec": {
   "display_name": "Python 3.7.1 32-bit",
   "language": "python",
   "name": "python3"
  },
  "language_info": {
   "codemirror_mode": {
    "name": "ipython",
    "version": 3
   },
   "file_extension": ".py",
   "mimetype": "text/x-python",
   "name": "python",
   "nbconvert_exporter": "python",
   "pygments_lexer": "ipython3",
   "version": "3.7.1"
  },
  "orig_nbformat": 4
 },
 "nbformat": 4,
 "nbformat_minor": 2
}
